{
 "cells": [
  {
   "cell_type": "code",
   "execution_count": 1,
   "metadata": {},
   "outputs": [],
   "source": [
    "const sentence_data = [\n",
    "    \"Ka__rrus_k mer___kan seb_ah k__a yang bersifat pa____rome\",\n",
    "    \"Be__kit _akit ke h_lu Beren_ng rena__ ke _epian, Bers__it sak_t da__lu bers__ang-sena__ k_mu_ian\",\n",
    "    \"R_za __ap Ok___ian ga_ers gante__ id__an, f**k p___itraan nakal ta_i tam_an\",\n",
    "    \"Tut__ial c_ra m__buat __deo tu__rial\",\n",
    "    \"Game i_i ti__k jelas, j_ngan dimai_kan\",\n",
    "    \"Gaja_ mat_ meni__galkan gad_ng. Har_mau mati men__ggalkan belan_\",\n",
    "    \"K_lo mau ng__awak jan_an garing\",\n",
    "    \"Yang ini soal bonus hehe\"\n",
    "]\n",
    "\n",
    "const answerKey = [\n",
    "    \"Kasurrusuk merupakan sebuah kata yang bersifat palindrome\",\n",
    "    \"Berakit rakit ke hulu Berenang renang ke tepian, Bersakit sakit dahulu bersenang-senang kemudian\",\n",
    "    \"Reza arap Oktavian gamers ganteng idaman, f**k pencitraan nakal tapi tampan\",\n",
    "    \"Tutorial cara membuat video tutorial\",\n",
    "    \"Game ini tidak jelas, jangan dimainkan\",\n",
    "    \"Gajah mati meninggalkan gading. Harimau mati meninggalkan belang\",\n",
    "    \"Kalo mau ngelawak jangan garing\",\n",
    "    \"Yang ini soal bonus hehe\"\n",
    "]"
   ]
  },
  {
   "cell_type": "code",
   "execution_count": 2,
   "metadata": {},
   "outputs": [],
   "source": [
    "var total_quest = 5\n",
    "var score = 0\n",
    "\n",
    "function isIn(arr, number){\n",
    "    for(let i=0; i<arr.length; i++){\n",
    "        if(arr[i]==number){\n",
    "            return true\n",
    "        }\n",
    "    }\n",
    "    return false\n",
    "}\n",
    "\n",
    "function getRandomInt(max) {\n",
    "    return Math.floor(Math.random() * Math.floor(max));\n",
    "}\n",
    "\n",
    "var randQuest = []\n",
    "for(let i=0; i<total_quest; i++){\n",
    "    let randNum = getRandomInt(sentence_data.length-1)\n",
    "    if(isIn(randQuest, randNum)){\n",
    "        i--\n",
    "    }else{\n",
    "        randQuest.push(randNum)\n",
    "    }\n",
    "}\n",
    "\n",
    "let quest = []\n",
    "for (let i = 0; i < sentence_data.length; i++) {\n",
    "    for (let j = 0; j < randQuest.length; j++) {\n",
    "        if (i == randQuest[j]) {\n",
    "            quest.push(sentence_data[i])\n",
    "        }\n",
    "    }\n",
    "}\n",
    "let answer = []\n",
    "for (let i = 0; i < answerKey.length; i++) {\n",
    "    for (let j = 0; j < randQuest.length; j++) {\n",
    "        if (i == randQuest[j]) {\n",
    "            answer.push(answerKey[i])\n",
    "        }\n",
    "    }\n",
    "}"
   ]
  },
  {
   "cell_type": "code",
   "execution_count": 3,
   "metadata": {},
   "outputs": [
    {
     "data": {
      "text/plain": [
       "[ 'Ka__rrus_k mer___kan seb_ah k__a yang bersifat pa____rome',\n",
       "  'Be__kit _akit ke h_lu Beren_ng rena__ ke _epian, Bers__it sak_t da__lu bers__ang-sena__ k_mu_ian',\n",
       "  'R_za __ap Ok___ian ga_ers gante__ id__an, f**k p___itraan nakal ta_i tam_an',\n",
       "  'Game i_i ti__k jelas, j_ngan dimai_kan',\n",
       "  'Gaja_ mat_ meni__galkan gad_ng. Har_mau mati men__ggalkan belan_' ]"
      ]
     },
     "execution_count": 3,
     "metadata": {},
     "output_type": "execute_result"
    }
   ],
   "source": [
    "quest"
   ]
  },
  {
   "cell_type": "code",
   "execution_count": 4,
   "metadata": {},
   "outputs": [
    {
     "data": {
      "text/plain": [
       "[ 'Kasurrusuk merupakan sebuah kata yang bersifat palindrome',\n",
       "  'Berakit rakit ke hulu Berenang renang ke tepian, Bersakit sakit dahulu bersenang-senang kemudian',\n",
       "  'Reza arap Oktavian gamers ganteng idaman, f**k pencitraan nakal tapi tampan',\n",
       "  'Game ini tidak jelas, jangan dimainkan',\n",
       "  'Gajah mati meninggalkan gading. Harimau mati meninggalkan belang' ]"
      ]
     },
     "execution_count": 4,
     "metadata": {},
     "output_type": "execute_result"
    }
   ],
   "source": [
    "answer"
   ]
  },
  {
   "cell_type": "code",
   "execution_count": 6,
   "metadata": {},
   "outputs": [],
   "source": [
    "var str = `for(let i=0; i<array.length; i++)`"
   ]
  },
  {
   "cell_type": "code",
   "execution_count": 7,
   "metadata": {},
   "outputs": [
    {
     "data": {
      "text/plain": [
       "'for(let i=0; i<array.length; i++)'"
      ]
     },
     "execution_count": 7,
     "metadata": {},
     "output_type": "execute_result"
    }
   ],
   "source": [
    "str"
   ]
  },
  {
   "cell_type": "code",
   "execution_count": null,
   "metadata": {},
   "outputs": [],
   "source": []
  }
 ],
 "metadata": {
  "kernelspec": {
   "display_name": "Javascript (Node.js)",
   "language": "javascript",
   "name": "javascript"
  },
  "language_info": {
   "file_extension": ".js",
   "mimetype": "application/javascript",
   "name": "javascript",
   "version": "8.10.0"
  }
 },
 "nbformat": 4,
 "nbformat_minor": 2
}
